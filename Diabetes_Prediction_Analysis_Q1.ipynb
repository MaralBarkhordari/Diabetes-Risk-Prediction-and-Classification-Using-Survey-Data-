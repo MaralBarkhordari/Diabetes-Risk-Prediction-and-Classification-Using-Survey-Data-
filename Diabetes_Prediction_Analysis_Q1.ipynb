{
 "cells": [
  {
   "cell_type": "markdown",
   "metadata": {},
   "source": [
    "# Can Survey Questions from the BRFSS Provide Accurate Predictions of Whether an Individual Has Diabetes?\n",
    "\n",
    "## Step 1: Data Understanding\n",
    "We will:\n",
    "- Load and explore the dataset.\n",
    "- Identify the target variable (e.g., `Diabetes_binary`) and the features (survey responses).\n",
    "\n",
    "## Step 2: Data Preprocessing\n",
    "- Handle missing values, if any.\n",
    "- Normalize/standardize features for modeling.\n",
    "- Split the data into training and testing sets.\n",
    "\n",
    "## Step 3: Build Predictive Models\n",
    "- Start with a basic logistic regression model.\n",
    "- Expand to other classifiers like decision trees, random forests, or XGBoost for comparison.\n",
    "\n",
    "## Step 4: Evaluate Model Accuracy\n",
    "- Use metrics such as accuracy, precision, recall, and ROC-AUC to assess prediction quality.\n",
    "\n",
    "## Step 5: Report Findings\n",
    "- Summarize whether survey responses can effectively predict diabetes.\n"
   ]
  },
  {
   "cell_type": "markdown",
   "metadata": {},
   "source": [
    "### Step 1: Load Libraries and Dataset"
   ]
  },
  {
   "cell_type": "code",
   "execution_count": 33,
   "metadata": {},
   "outputs": [
    {
     "data": {
      "text/html": [
       "<div>\n",
       "<style scoped>\n",
       "    .dataframe tbody tr th:only-of-type {\n",
       "        vertical-align: middle;\n",
       "    }\n",
       "\n",
       "    .dataframe tbody tr th {\n",
       "        vertical-align: top;\n",
       "    }\n",
       "\n",
       "    .dataframe thead th {\n",
       "        text-align: right;\n",
       "    }\n",
       "</style>\n",
       "<table border=\"1\" class=\"dataframe\">\n",
       "  <thead>\n",
       "    <tr style=\"text-align: right;\">\n",
       "      <th></th>\n",
       "      <th>Diabetes_012</th>\n",
       "      <th>HighBP</th>\n",
       "      <th>HighChol</th>\n",
       "      <th>CholCheck</th>\n",
       "      <th>BMI</th>\n",
       "      <th>Smoker</th>\n",
       "      <th>Stroke</th>\n",
       "      <th>HeartDiseaseorAttack</th>\n",
       "      <th>PhysActivity</th>\n",
       "      <th>Fruits</th>\n",
       "      <th>...</th>\n",
       "      <th>AnyHealthcare</th>\n",
       "      <th>NoDocbcCost</th>\n",
       "      <th>GenHlth</th>\n",
       "      <th>MentHlth</th>\n",
       "      <th>PhysHlth</th>\n",
       "      <th>DiffWalk</th>\n",
       "      <th>Sex</th>\n",
       "      <th>Age</th>\n",
       "      <th>Education</th>\n",
       "      <th>Income</th>\n",
       "    </tr>\n",
       "  </thead>\n",
       "  <tbody>\n",
       "    <tr>\n",
       "      <th>0</th>\n",
       "      <td>0.0</td>\n",
       "      <td>1.0</td>\n",
       "      <td>1.0</td>\n",
       "      <td>1.0</td>\n",
       "      <td>40.0</td>\n",
       "      <td>1.0</td>\n",
       "      <td>0.0</td>\n",
       "      <td>0.0</td>\n",
       "      <td>0.0</td>\n",
       "      <td>0.0</td>\n",
       "      <td>...</td>\n",
       "      <td>1.0</td>\n",
       "      <td>0.0</td>\n",
       "      <td>5.0</td>\n",
       "      <td>18.0</td>\n",
       "      <td>15.0</td>\n",
       "      <td>1.0</td>\n",
       "      <td>0.0</td>\n",
       "      <td>9.0</td>\n",
       "      <td>4.0</td>\n",
       "      <td>3.0</td>\n",
       "    </tr>\n",
       "    <tr>\n",
       "      <th>1</th>\n",
       "      <td>0.0</td>\n",
       "      <td>0.0</td>\n",
       "      <td>0.0</td>\n",
       "      <td>0.0</td>\n",
       "      <td>25.0</td>\n",
       "      <td>1.0</td>\n",
       "      <td>0.0</td>\n",
       "      <td>0.0</td>\n",
       "      <td>1.0</td>\n",
       "      <td>0.0</td>\n",
       "      <td>...</td>\n",
       "      <td>0.0</td>\n",
       "      <td>1.0</td>\n",
       "      <td>3.0</td>\n",
       "      <td>0.0</td>\n",
       "      <td>0.0</td>\n",
       "      <td>0.0</td>\n",
       "      <td>0.0</td>\n",
       "      <td>7.0</td>\n",
       "      <td>6.0</td>\n",
       "      <td>1.0</td>\n",
       "    </tr>\n",
       "    <tr>\n",
       "      <th>2</th>\n",
       "      <td>0.0</td>\n",
       "      <td>1.0</td>\n",
       "      <td>1.0</td>\n",
       "      <td>1.0</td>\n",
       "      <td>28.0</td>\n",
       "      <td>0.0</td>\n",
       "      <td>0.0</td>\n",
       "      <td>0.0</td>\n",
       "      <td>0.0</td>\n",
       "      <td>1.0</td>\n",
       "      <td>...</td>\n",
       "      <td>1.0</td>\n",
       "      <td>1.0</td>\n",
       "      <td>5.0</td>\n",
       "      <td>30.0</td>\n",
       "      <td>30.0</td>\n",
       "      <td>1.0</td>\n",
       "      <td>0.0</td>\n",
       "      <td>9.0</td>\n",
       "      <td>4.0</td>\n",
       "      <td>8.0</td>\n",
       "    </tr>\n",
       "    <tr>\n",
       "      <th>3</th>\n",
       "      <td>0.0</td>\n",
       "      <td>1.0</td>\n",
       "      <td>0.0</td>\n",
       "      <td>1.0</td>\n",
       "      <td>27.0</td>\n",
       "      <td>0.0</td>\n",
       "      <td>0.0</td>\n",
       "      <td>0.0</td>\n",
       "      <td>1.0</td>\n",
       "      <td>1.0</td>\n",
       "      <td>...</td>\n",
       "      <td>1.0</td>\n",
       "      <td>0.0</td>\n",
       "      <td>2.0</td>\n",
       "      <td>0.0</td>\n",
       "      <td>0.0</td>\n",
       "      <td>0.0</td>\n",
       "      <td>0.0</td>\n",
       "      <td>11.0</td>\n",
       "      <td>3.0</td>\n",
       "      <td>6.0</td>\n",
       "    </tr>\n",
       "    <tr>\n",
       "      <th>4</th>\n",
       "      <td>0.0</td>\n",
       "      <td>1.0</td>\n",
       "      <td>1.0</td>\n",
       "      <td>1.0</td>\n",
       "      <td>24.0</td>\n",
       "      <td>0.0</td>\n",
       "      <td>0.0</td>\n",
       "      <td>0.0</td>\n",
       "      <td>1.0</td>\n",
       "      <td>1.0</td>\n",
       "      <td>...</td>\n",
       "      <td>1.0</td>\n",
       "      <td>0.0</td>\n",
       "      <td>2.0</td>\n",
       "      <td>3.0</td>\n",
       "      <td>0.0</td>\n",
       "      <td>0.0</td>\n",
       "      <td>0.0</td>\n",
       "      <td>11.0</td>\n",
       "      <td>5.0</td>\n",
       "      <td>4.0</td>\n",
       "    </tr>\n",
       "  </tbody>\n",
       "</table>\n",
       "<p>5 rows × 22 columns</p>\n",
       "</div>"
      ],
      "text/plain": [
       "   Diabetes_012  HighBP  HighChol  CholCheck   BMI  Smoker  Stroke  \\\n",
       "0           0.0     1.0       1.0        1.0  40.0     1.0     0.0   \n",
       "1           0.0     0.0       0.0        0.0  25.0     1.0     0.0   \n",
       "2           0.0     1.0       1.0        1.0  28.0     0.0     0.0   \n",
       "3           0.0     1.0       0.0        1.0  27.0     0.0     0.0   \n",
       "4           0.0     1.0       1.0        1.0  24.0     0.0     0.0   \n",
       "\n",
       "   HeartDiseaseorAttack  PhysActivity  Fruits  ...  AnyHealthcare  \\\n",
       "0                   0.0           0.0     0.0  ...            1.0   \n",
       "1                   0.0           1.0     0.0  ...            0.0   \n",
       "2                   0.0           0.0     1.0  ...            1.0   \n",
       "3                   0.0           1.0     1.0  ...            1.0   \n",
       "4                   0.0           1.0     1.0  ...            1.0   \n",
       "\n",
       "   NoDocbcCost  GenHlth  MentHlth  PhysHlth  DiffWalk  Sex   Age  Education  \\\n",
       "0          0.0      5.0      18.0      15.0       1.0  0.0   9.0        4.0   \n",
       "1          1.0      3.0       0.0       0.0       0.0  0.0   7.0        6.0   \n",
       "2          1.0      5.0      30.0      30.0       1.0  0.0   9.0        4.0   \n",
       "3          0.0      2.0       0.0       0.0       0.0  0.0  11.0        3.0   \n",
       "4          0.0      2.0       3.0       0.0       0.0  0.0  11.0        5.0   \n",
       "\n",
       "   Income  \n",
       "0     3.0  \n",
       "1     1.0  \n",
       "2     8.0  \n",
       "3     6.0  \n",
       "4     4.0  \n",
       "\n",
       "[5 rows x 22 columns]"
      ]
     },
     "execution_count": 33,
     "metadata": {},
     "output_type": "execute_result"
    }
   ],
   "source": [
    "# Import necessary libraries\n",
    "import pandas as pd\n",
    "from sklearn.model_selection import train_test_split\n",
    "from sklearn.preprocessing import StandardScaler\n",
    "from sklearn.linear_model import LogisticRegression\n",
    "from sklearn.metrics import classification_report, confusion_matrix, roc_auc_score\n",
    "\n",
    "# Load the dataset (replace the file path with your actual dataset location)\n",
    "file_path = \"/Users/maralbarkhordari/Desktop/Diabetes Health Indicators Dataset/diabetes_012_health_indicators_BRFSS2015.csv\"\n",
    "data = pd.read_csv(file_path)\n",
    "\n",
    "# Display the first few rows of the dataset\n",
    "data.head()\n"
   ]
  },
  {
   "cell_type": "code",
   "execution_count": 34,
   "metadata": {},
   "outputs": [
    {
     "ename": "KeyboardInterrupt",
     "evalue": "",
     "output_type": "error",
     "traceback": [
      "\u001b[0;31m---------------------------------------------------------------------------\u001b[0m",
      "\u001b[0;31mKeyboardInterrupt\u001b[0m                         Traceback (most recent call last)",
      "Cell \u001b[0;32mIn[34], line 1\u001b[0m\n\u001b[0;32m----> 1\u001b[0m data\n",
      "File \u001b[0;32m/opt/miniconda3/envs/dsi_participant/lib/python3.9/site-packages/IPython/core/displayhook.py:268\u001b[0m, in \u001b[0;36mDisplayHook.__call__\u001b[0;34m(self, result)\u001b[0m\n\u001b[1;32m    266\u001b[0m \u001b[38;5;28mself\u001b[39m\u001b[38;5;241m.\u001b[39mstart_displayhook()\n\u001b[1;32m    267\u001b[0m \u001b[38;5;28mself\u001b[39m\u001b[38;5;241m.\u001b[39mwrite_output_prompt()\n\u001b[0;32m--> 268\u001b[0m format_dict, md_dict \u001b[38;5;241m=\u001b[39m \u001b[38;5;28;43mself\u001b[39;49m\u001b[38;5;241;43m.\u001b[39;49m\u001b[43mcompute_format_data\u001b[49m\u001b[43m(\u001b[49m\u001b[43mresult\u001b[49m\u001b[43m)\u001b[49m\n\u001b[1;32m    269\u001b[0m \u001b[38;5;28mself\u001b[39m\u001b[38;5;241m.\u001b[39mupdate_user_ns(result)\n\u001b[1;32m    270\u001b[0m \u001b[38;5;28mself\u001b[39m\u001b[38;5;241m.\u001b[39mfill_exec_result(result)\n",
      "File \u001b[0;32m/opt/miniconda3/envs/dsi_participant/lib/python3.9/site-packages/IPython/core/displayhook.py:157\u001b[0m, in \u001b[0;36mDisplayHook.compute_format_data\u001b[0;34m(self, result)\u001b[0m\n\u001b[1;32m    127\u001b[0m \u001b[38;5;28;01mdef\u001b[39;00m \u001b[38;5;21mcompute_format_data\u001b[39m(\u001b[38;5;28mself\u001b[39m, result):\n\u001b[1;32m    128\u001b[0m \u001b[38;5;250m    \u001b[39m\u001b[38;5;124;03m\"\"\"Compute format data of the object to be displayed.\u001b[39;00m\n\u001b[1;32m    129\u001b[0m \n\u001b[1;32m    130\u001b[0m \u001b[38;5;124;03m    The format data is a generalization of the :func:`repr` of an object.\u001b[39;00m\n\u001b[0;32m   (...)\u001b[0m\n\u001b[1;32m    155\u001b[0m \n\u001b[1;32m    156\u001b[0m \u001b[38;5;124;03m    \"\"\"\u001b[39;00m\n\u001b[0;32m--> 157\u001b[0m     \u001b[38;5;28;01mreturn\u001b[39;00m \u001b[38;5;28;43mself\u001b[39;49m\u001b[38;5;241;43m.\u001b[39;49m\u001b[43mshell\u001b[49m\u001b[38;5;241;43m.\u001b[39;49m\u001b[43mdisplay_formatter\u001b[49m\u001b[38;5;241;43m.\u001b[39;49m\u001b[43mformat\u001b[49m\u001b[43m(\u001b[49m\u001b[43mresult\u001b[49m\u001b[43m)\u001b[49m\n",
      "File \u001b[0;32m/opt/miniconda3/envs/dsi_participant/lib/python3.9/site-packages/IPython/core/formatters.py:179\u001b[0m, in \u001b[0;36mDisplayFormatter.format\u001b[0;34m(self, obj, include, exclude)\u001b[0m\n\u001b[1;32m    177\u001b[0m md \u001b[38;5;241m=\u001b[39m \u001b[38;5;28;01mNone\u001b[39;00m\n\u001b[1;32m    178\u001b[0m \u001b[38;5;28;01mtry\u001b[39;00m:\n\u001b[0;32m--> 179\u001b[0m     data \u001b[38;5;241m=\u001b[39m \u001b[43mformatter\u001b[49m\u001b[43m(\u001b[49m\u001b[43mobj\u001b[49m\u001b[43m)\u001b[49m\n\u001b[1;32m    180\u001b[0m \u001b[38;5;28;01mexcept\u001b[39;00m:\n\u001b[1;32m    181\u001b[0m     \u001b[38;5;66;03m# FIXME: log the exception\u001b[39;00m\n\u001b[1;32m    182\u001b[0m     \u001b[38;5;28;01mraise\u001b[39;00m\n",
      "File \u001b[0;32m/opt/miniconda3/envs/dsi_participant/lib/python3.9/site-packages/decorator.py:232\u001b[0m, in \u001b[0;36mdecorate.<locals>.fun\u001b[0;34m(*args, **kw)\u001b[0m\n\u001b[1;32m    230\u001b[0m \u001b[38;5;28;01mif\u001b[39;00m \u001b[38;5;129;01mnot\u001b[39;00m kwsyntax:\n\u001b[1;32m    231\u001b[0m     args, kw \u001b[38;5;241m=\u001b[39m fix(args, kw, sig)\n\u001b[0;32m--> 232\u001b[0m \u001b[38;5;28;01mreturn\u001b[39;00m \u001b[43mcaller\u001b[49m\u001b[43m(\u001b[49m\u001b[43mfunc\u001b[49m\u001b[43m,\u001b[49m\u001b[43m \u001b[49m\u001b[38;5;241;43m*\u001b[39;49m\u001b[43m(\u001b[49m\u001b[43mextras\u001b[49m\u001b[43m \u001b[49m\u001b[38;5;241;43m+\u001b[39;49m\u001b[43m \u001b[49m\u001b[43margs\u001b[49m\u001b[43m)\u001b[49m\u001b[43m,\u001b[49m\u001b[43m \u001b[49m\u001b[38;5;241;43m*\u001b[39;49m\u001b[38;5;241;43m*\u001b[39;49m\u001b[43mkw\u001b[49m\u001b[43m)\u001b[49m\n",
      "File \u001b[0;32m/opt/miniconda3/envs/dsi_participant/lib/python3.9/site-packages/IPython/core/formatters.py:223\u001b[0m, in \u001b[0;36mcatch_format_error\u001b[0;34m(method, self, *args, **kwargs)\u001b[0m\n\u001b[1;32m    221\u001b[0m \u001b[38;5;250m\u001b[39m\u001b[38;5;124;03m\"\"\"show traceback on failed format call\"\"\"\u001b[39;00m\n\u001b[1;32m    222\u001b[0m \u001b[38;5;28;01mtry\u001b[39;00m:\n\u001b[0;32m--> 223\u001b[0m     r \u001b[38;5;241m=\u001b[39m \u001b[43mmethod\u001b[49m\u001b[43m(\u001b[49m\u001b[38;5;28;43mself\u001b[39;49m\u001b[43m,\u001b[49m\u001b[43m \u001b[49m\u001b[38;5;241;43m*\u001b[39;49m\u001b[43margs\u001b[49m\u001b[43m,\u001b[49m\u001b[43m \u001b[49m\u001b[38;5;241;43m*\u001b[39;49m\u001b[38;5;241;43m*\u001b[39;49m\u001b[43mkwargs\u001b[49m\u001b[43m)\u001b[49m\n\u001b[1;32m    224\u001b[0m \u001b[38;5;28;01mexcept\u001b[39;00m \u001b[38;5;167;01mNotImplementedError\u001b[39;00m:\n\u001b[1;32m    225\u001b[0m     \u001b[38;5;66;03m# don't warn on NotImplementedErrors\u001b[39;00m\n\u001b[1;32m    226\u001b[0m     \u001b[38;5;28;01mreturn\u001b[39;00m \u001b[38;5;28mself\u001b[39m\u001b[38;5;241m.\u001b[39m_check_return(\u001b[38;5;28;01mNone\u001b[39;00m, args[\u001b[38;5;241m0\u001b[39m])\n",
      "File \u001b[0;32m/opt/miniconda3/envs/dsi_participant/lib/python3.9/site-packages/IPython/core/formatters.py:708\u001b[0m, in \u001b[0;36mPlainTextFormatter.__call__\u001b[0;34m(self, obj)\u001b[0m\n\u001b[1;32m    701\u001b[0m stream \u001b[38;5;241m=\u001b[39m StringIO()\n\u001b[1;32m    702\u001b[0m printer \u001b[38;5;241m=\u001b[39m pretty\u001b[38;5;241m.\u001b[39mRepresentationPrinter(stream, \u001b[38;5;28mself\u001b[39m\u001b[38;5;241m.\u001b[39mverbose,\n\u001b[1;32m    703\u001b[0m     \u001b[38;5;28mself\u001b[39m\u001b[38;5;241m.\u001b[39mmax_width, \u001b[38;5;28mself\u001b[39m\u001b[38;5;241m.\u001b[39mnewline,\n\u001b[1;32m    704\u001b[0m     max_seq_length\u001b[38;5;241m=\u001b[39m\u001b[38;5;28mself\u001b[39m\u001b[38;5;241m.\u001b[39mmax_seq_length,\n\u001b[1;32m    705\u001b[0m     singleton_pprinters\u001b[38;5;241m=\u001b[39m\u001b[38;5;28mself\u001b[39m\u001b[38;5;241m.\u001b[39msingleton_printers,\n\u001b[1;32m    706\u001b[0m     type_pprinters\u001b[38;5;241m=\u001b[39m\u001b[38;5;28mself\u001b[39m\u001b[38;5;241m.\u001b[39mtype_printers,\n\u001b[1;32m    707\u001b[0m     deferred_pprinters\u001b[38;5;241m=\u001b[39m\u001b[38;5;28mself\u001b[39m\u001b[38;5;241m.\u001b[39mdeferred_printers)\n\u001b[0;32m--> 708\u001b[0m \u001b[43mprinter\u001b[49m\u001b[38;5;241;43m.\u001b[39;49m\u001b[43mpretty\u001b[49m\u001b[43m(\u001b[49m\u001b[43mobj\u001b[49m\u001b[43m)\u001b[49m\n\u001b[1;32m    709\u001b[0m printer\u001b[38;5;241m.\u001b[39mflush()\n\u001b[1;32m    710\u001b[0m \u001b[38;5;28;01mreturn\u001b[39;00m stream\u001b[38;5;241m.\u001b[39mgetvalue()\n",
      "File \u001b[0;32m/opt/miniconda3/envs/dsi_participant/lib/python3.9/site-packages/IPython/lib/pretty.py:410\u001b[0m, in \u001b[0;36mRepresentationPrinter.pretty\u001b[0;34m(self, obj)\u001b[0m\n\u001b[1;32m    407\u001b[0m                         \u001b[38;5;28;01mreturn\u001b[39;00m meth(obj, \u001b[38;5;28mself\u001b[39m, cycle)\n\u001b[1;32m    408\u001b[0m                 \u001b[38;5;28;01mif\u001b[39;00m \u001b[38;5;28mcls\u001b[39m \u001b[38;5;129;01mis\u001b[39;00m \u001b[38;5;129;01mnot\u001b[39;00m \u001b[38;5;28mobject\u001b[39m \\\n\u001b[1;32m    409\u001b[0m                         \u001b[38;5;129;01mand\u001b[39;00m \u001b[38;5;28mcallable\u001b[39m(\u001b[38;5;28mcls\u001b[39m\u001b[38;5;241m.\u001b[39m\u001b[38;5;18m__dict__\u001b[39m\u001b[38;5;241m.\u001b[39mget(\u001b[38;5;124m'\u001b[39m\u001b[38;5;124m__repr__\u001b[39m\u001b[38;5;124m'\u001b[39m)):\n\u001b[0;32m--> 410\u001b[0m                     \u001b[38;5;28;01mreturn\u001b[39;00m \u001b[43m_repr_pprint\u001b[49m\u001b[43m(\u001b[49m\u001b[43mobj\u001b[49m\u001b[43m,\u001b[49m\u001b[43m \u001b[49m\u001b[38;5;28;43mself\u001b[39;49m\u001b[43m,\u001b[49m\u001b[43m \u001b[49m\u001b[43mcycle\u001b[49m\u001b[43m)\u001b[49m\n\u001b[1;32m    412\u001b[0m     \u001b[38;5;28;01mreturn\u001b[39;00m _default_pprint(obj, \u001b[38;5;28mself\u001b[39m, cycle)\n\u001b[1;32m    413\u001b[0m \u001b[38;5;28;01mfinally\u001b[39;00m:\n",
      "File \u001b[0;32m/opt/miniconda3/envs/dsi_participant/lib/python3.9/site-packages/IPython/lib/pretty.py:778\u001b[0m, in \u001b[0;36m_repr_pprint\u001b[0;34m(obj, p, cycle)\u001b[0m\n\u001b[1;32m    776\u001b[0m \u001b[38;5;250m\u001b[39m\u001b[38;5;124;03m\"\"\"A pprint that just redirects to the normal repr function.\"\"\"\u001b[39;00m\n\u001b[1;32m    777\u001b[0m \u001b[38;5;66;03m# Find newlines and replace them with p.break_()\u001b[39;00m\n\u001b[0;32m--> 778\u001b[0m output \u001b[38;5;241m=\u001b[39m \u001b[38;5;28;43mrepr\u001b[39;49m\u001b[43m(\u001b[49m\u001b[43mobj\u001b[49m\u001b[43m)\u001b[49m\n\u001b[1;32m    779\u001b[0m lines \u001b[38;5;241m=\u001b[39m output\u001b[38;5;241m.\u001b[39msplitlines()\n\u001b[1;32m    780\u001b[0m \u001b[38;5;28;01mwith\u001b[39;00m p\u001b[38;5;241m.\u001b[39mgroup():\n",
      "File \u001b[0;32m/opt/miniconda3/envs/dsi_participant/lib/python3.9/site-packages/pandas/core/frame.py:1214\u001b[0m, in \u001b[0;36mDataFrame.__repr__\u001b[0;34m(self)\u001b[0m\n\u001b[1;32m   1211\u001b[0m     \u001b[38;5;28;01mreturn\u001b[39;00m buf\u001b[38;5;241m.\u001b[39mgetvalue()\n\u001b[1;32m   1213\u001b[0m repr_params \u001b[38;5;241m=\u001b[39m fmt\u001b[38;5;241m.\u001b[39mget_dataframe_repr_params()\n\u001b[0;32m-> 1214\u001b[0m \u001b[38;5;28;01mreturn\u001b[39;00m \u001b[38;5;28;43mself\u001b[39;49m\u001b[38;5;241;43m.\u001b[39;49m\u001b[43mto_string\u001b[49m\u001b[43m(\u001b[49m\u001b[38;5;241;43m*\u001b[39;49m\u001b[38;5;241;43m*\u001b[39;49m\u001b[43mrepr_params\u001b[49m\u001b[43m)\u001b[49m\n",
      "File \u001b[0;32m/opt/miniconda3/envs/dsi_participant/lib/python3.9/site-packages/pandas/util/_decorators.py:333\u001b[0m, in \u001b[0;36mdeprecate_nonkeyword_arguments.<locals>.decorate.<locals>.wrapper\u001b[0;34m(*args, **kwargs)\u001b[0m\n\u001b[1;32m    327\u001b[0m \u001b[38;5;28;01mif\u001b[39;00m \u001b[38;5;28mlen\u001b[39m(args) \u001b[38;5;241m>\u001b[39m num_allow_args:\n\u001b[1;32m    328\u001b[0m     warnings\u001b[38;5;241m.\u001b[39mwarn(\n\u001b[1;32m    329\u001b[0m         msg\u001b[38;5;241m.\u001b[39mformat(arguments\u001b[38;5;241m=\u001b[39m_format_argument_list(allow_args)),\n\u001b[1;32m    330\u001b[0m         \u001b[38;5;167;01mFutureWarning\u001b[39;00m,\n\u001b[1;32m    331\u001b[0m         stacklevel\u001b[38;5;241m=\u001b[39mfind_stack_level(),\n\u001b[1;32m    332\u001b[0m     )\n\u001b[0;32m--> 333\u001b[0m \u001b[38;5;28;01mreturn\u001b[39;00m \u001b[43mfunc\u001b[49m\u001b[43m(\u001b[49m\u001b[38;5;241;43m*\u001b[39;49m\u001b[43margs\u001b[49m\u001b[43m,\u001b[49m\u001b[43m \u001b[49m\u001b[38;5;241;43m*\u001b[39;49m\u001b[38;5;241;43m*\u001b[39;49m\u001b[43mkwargs\u001b[49m\u001b[43m)\u001b[49m\n",
      "File \u001b[0;32m/opt/miniconda3/envs/dsi_participant/lib/python3.9/site-packages/pandas/core/frame.py:1376\u001b[0m, in \u001b[0;36mDataFrame.to_string\u001b[0;34m(self, buf, columns, col_space, header, index, na_rep, formatters, float_format, sparsify, index_names, justify, max_rows, max_cols, show_dimensions, decimal, line_width, min_rows, max_colwidth, encoding)\u001b[0m\n\u001b[1;32m   1373\u001b[0m \u001b[38;5;28;01mfrom\u001b[39;00m \u001b[38;5;21;01mpandas\u001b[39;00m \u001b[38;5;28;01mimport\u001b[39;00m option_context\n\u001b[1;32m   1375\u001b[0m \u001b[38;5;28;01mwith\u001b[39;00m option_context(\u001b[38;5;124m\"\u001b[39m\u001b[38;5;124mdisplay.max_colwidth\u001b[39m\u001b[38;5;124m\"\u001b[39m, max_colwidth):\n\u001b[0;32m-> 1376\u001b[0m     formatter \u001b[38;5;241m=\u001b[39m \u001b[43mfmt\u001b[49m\u001b[38;5;241;43m.\u001b[39;49m\u001b[43mDataFrameFormatter\u001b[49m\u001b[43m(\u001b[49m\n\u001b[1;32m   1377\u001b[0m \u001b[43m        \u001b[49m\u001b[38;5;28;43mself\u001b[39;49m\u001b[43m,\u001b[49m\n\u001b[1;32m   1378\u001b[0m \u001b[43m        \u001b[49m\u001b[43mcolumns\u001b[49m\u001b[38;5;241;43m=\u001b[39;49m\u001b[43mcolumns\u001b[49m\u001b[43m,\u001b[49m\n\u001b[1;32m   1379\u001b[0m \u001b[43m        \u001b[49m\u001b[43mcol_space\u001b[49m\u001b[38;5;241;43m=\u001b[39;49m\u001b[43mcol_space\u001b[49m\u001b[43m,\u001b[49m\n\u001b[1;32m   1380\u001b[0m \u001b[43m        \u001b[49m\u001b[43mna_rep\u001b[49m\u001b[38;5;241;43m=\u001b[39;49m\u001b[43mna_rep\u001b[49m\u001b[43m,\u001b[49m\n\u001b[1;32m   1381\u001b[0m \u001b[43m        \u001b[49m\u001b[43mformatters\u001b[49m\u001b[38;5;241;43m=\u001b[39;49m\u001b[43mformatters\u001b[49m\u001b[43m,\u001b[49m\n\u001b[1;32m   1382\u001b[0m \u001b[43m        \u001b[49m\u001b[43mfloat_format\u001b[49m\u001b[38;5;241;43m=\u001b[39;49m\u001b[43mfloat_format\u001b[49m\u001b[43m,\u001b[49m\n\u001b[1;32m   1383\u001b[0m \u001b[43m        \u001b[49m\u001b[43msparsify\u001b[49m\u001b[38;5;241;43m=\u001b[39;49m\u001b[43msparsify\u001b[49m\u001b[43m,\u001b[49m\n\u001b[1;32m   1384\u001b[0m \u001b[43m        \u001b[49m\u001b[43mjustify\u001b[49m\u001b[38;5;241;43m=\u001b[39;49m\u001b[43mjustify\u001b[49m\u001b[43m,\u001b[49m\n\u001b[1;32m   1385\u001b[0m \u001b[43m        \u001b[49m\u001b[43mindex_names\u001b[49m\u001b[38;5;241;43m=\u001b[39;49m\u001b[43mindex_names\u001b[49m\u001b[43m,\u001b[49m\n\u001b[1;32m   1386\u001b[0m \u001b[43m        \u001b[49m\u001b[43mheader\u001b[49m\u001b[38;5;241;43m=\u001b[39;49m\u001b[43mheader\u001b[49m\u001b[43m,\u001b[49m\n\u001b[1;32m   1387\u001b[0m \u001b[43m        \u001b[49m\u001b[43mindex\u001b[49m\u001b[38;5;241;43m=\u001b[39;49m\u001b[43mindex\u001b[49m\u001b[43m,\u001b[49m\n\u001b[1;32m   1388\u001b[0m \u001b[43m        \u001b[49m\u001b[43mmin_rows\u001b[49m\u001b[38;5;241;43m=\u001b[39;49m\u001b[43mmin_rows\u001b[49m\u001b[43m,\u001b[49m\n\u001b[1;32m   1389\u001b[0m \u001b[43m        \u001b[49m\u001b[43mmax_rows\u001b[49m\u001b[38;5;241;43m=\u001b[39;49m\u001b[43mmax_rows\u001b[49m\u001b[43m,\u001b[49m\n\u001b[1;32m   1390\u001b[0m \u001b[43m        \u001b[49m\u001b[43mmax_cols\u001b[49m\u001b[38;5;241;43m=\u001b[39;49m\u001b[43mmax_cols\u001b[49m\u001b[43m,\u001b[49m\n\u001b[1;32m   1391\u001b[0m \u001b[43m        \u001b[49m\u001b[43mshow_dimensions\u001b[49m\u001b[38;5;241;43m=\u001b[39;49m\u001b[43mshow_dimensions\u001b[49m\u001b[43m,\u001b[49m\n\u001b[1;32m   1392\u001b[0m \u001b[43m        \u001b[49m\u001b[43mdecimal\u001b[49m\u001b[38;5;241;43m=\u001b[39;49m\u001b[43mdecimal\u001b[49m\u001b[43m,\u001b[49m\n\u001b[1;32m   1393\u001b[0m \u001b[43m    \u001b[49m\u001b[43m)\u001b[49m\n\u001b[1;32m   1394\u001b[0m     \u001b[38;5;28;01mreturn\u001b[39;00m fmt\u001b[38;5;241m.\u001b[39mDataFrameRenderer(formatter)\u001b[38;5;241m.\u001b[39mto_string(\n\u001b[1;32m   1395\u001b[0m         buf\u001b[38;5;241m=\u001b[39mbuf,\n\u001b[1;32m   1396\u001b[0m         encoding\u001b[38;5;241m=\u001b[39mencoding,\n\u001b[1;32m   1397\u001b[0m         line_width\u001b[38;5;241m=\u001b[39mline_width,\n\u001b[1;32m   1398\u001b[0m     )\n",
      "File \u001b[0;32m/opt/miniconda3/envs/dsi_participant/lib/python3.9/site-packages/pandas/io/formats/format.py:469\u001b[0m, in \u001b[0;36mDataFrameFormatter.__init__\u001b[0;34m(self, frame, columns, col_space, header, index, na_rep, formatters, justify, float_format, sparsify, index_names, max_rows, min_rows, max_cols, show_dimensions, decimal, bold_rows, escape)\u001b[0m\n\u001b[1;32m    466\u001b[0m \u001b[38;5;28mself\u001b[39m\u001b[38;5;241m.\u001b[39mmax_rows_fitted \u001b[38;5;241m=\u001b[39m \u001b[38;5;28mself\u001b[39m\u001b[38;5;241m.\u001b[39m_calc_max_rows_fitted()\n\u001b[1;32m    468\u001b[0m \u001b[38;5;28mself\u001b[39m\u001b[38;5;241m.\u001b[39mtr_frame \u001b[38;5;241m=\u001b[39m \u001b[38;5;28mself\u001b[39m\u001b[38;5;241m.\u001b[39mframe\n\u001b[0;32m--> 469\u001b[0m \u001b[38;5;28;43mself\u001b[39;49m\u001b[38;5;241;43m.\u001b[39;49m\u001b[43mtruncate\u001b[49m\u001b[43m(\u001b[49m\u001b[43m)\u001b[49m\n\u001b[1;32m    470\u001b[0m \u001b[38;5;28mself\u001b[39m\u001b[38;5;241m.\u001b[39madj \u001b[38;5;241m=\u001b[39m printing\u001b[38;5;241m.\u001b[39mget_adjustment()\n",
      "File \u001b[0;32m/opt/miniconda3/envs/dsi_participant/lib/python3.9/site-packages/pandas/io/formats/format.py:655\u001b[0m, in \u001b[0;36mDataFrameFormatter.truncate\u001b[0;34m(self)\u001b[0m\n\u001b[1;32m    651\u001b[0m \u001b[38;5;250m\u001b[39m\u001b[38;5;124;03m\"\"\"\u001b[39;00m\n\u001b[1;32m    652\u001b[0m \u001b[38;5;124;03mCheck whether the frame should be truncated. If so, slice the frame up.\u001b[39;00m\n\u001b[1;32m    653\u001b[0m \u001b[38;5;124;03m\"\"\"\u001b[39;00m\n\u001b[1;32m    654\u001b[0m \u001b[38;5;28;01mif\u001b[39;00m \u001b[38;5;28mself\u001b[39m\u001b[38;5;241m.\u001b[39mis_truncated_horizontally:\n\u001b[0;32m--> 655\u001b[0m     \u001b[38;5;28;43mself\u001b[39;49m\u001b[38;5;241;43m.\u001b[39;49m\u001b[43m_truncate_horizontally\u001b[49m\u001b[43m(\u001b[49m\u001b[43m)\u001b[49m\n\u001b[1;32m    657\u001b[0m \u001b[38;5;28;01mif\u001b[39;00m \u001b[38;5;28mself\u001b[39m\u001b[38;5;241m.\u001b[39mis_truncated_vertically:\n\u001b[1;32m    658\u001b[0m     \u001b[38;5;28mself\u001b[39m\u001b[38;5;241m.\u001b[39m_truncate_vertically()\n",
      "File \u001b[0;32m/opt/miniconda3/envs/dsi_participant/lib/python3.9/site-packages/pandas/io/formats/format.py:673\u001b[0m, in \u001b[0;36mDataFrameFormatter._truncate_horizontally\u001b[0;34m(self)\u001b[0m\n\u001b[1;32m    671\u001b[0m left \u001b[38;5;241m=\u001b[39m \u001b[38;5;28mself\u001b[39m\u001b[38;5;241m.\u001b[39mtr_frame\u001b[38;5;241m.\u001b[39miloc[:, :col_num]\n\u001b[1;32m    672\u001b[0m right \u001b[38;5;241m=\u001b[39m \u001b[38;5;28mself\u001b[39m\u001b[38;5;241m.\u001b[39mtr_frame\u001b[38;5;241m.\u001b[39miloc[:, \u001b[38;5;241m-\u001b[39mcol_num:]\n\u001b[0;32m--> 673\u001b[0m \u001b[38;5;28mself\u001b[39m\u001b[38;5;241m.\u001b[39mtr_frame \u001b[38;5;241m=\u001b[39m \u001b[43mconcat\u001b[49m\u001b[43m(\u001b[49m\u001b[43m(\u001b[49m\u001b[43mleft\u001b[49m\u001b[43m,\u001b[49m\u001b[43m \u001b[49m\u001b[43mright\u001b[49m\u001b[43m)\u001b[49m\u001b[43m,\u001b[49m\u001b[43m \u001b[49m\u001b[43maxis\u001b[49m\u001b[38;5;241;43m=\u001b[39;49m\u001b[38;5;241;43m1\u001b[39;49m\u001b[43m)\u001b[49m\n\u001b[1;32m    675\u001b[0m \u001b[38;5;66;03m# truncate formatter\u001b[39;00m\n\u001b[1;32m    676\u001b[0m \u001b[38;5;28;01mif\u001b[39;00m \u001b[38;5;28misinstance\u001b[39m(\u001b[38;5;28mself\u001b[39m\u001b[38;5;241m.\u001b[39mformatters, (\u001b[38;5;28mlist\u001b[39m, \u001b[38;5;28mtuple\u001b[39m)):\n",
      "File \u001b[0;32m/opt/miniconda3/envs/dsi_participant/lib/python3.9/site-packages/pandas/core/reshape/concat.py:395\u001b[0m, in \u001b[0;36mconcat\u001b[0;34m(objs, axis, join, ignore_index, keys, levels, names, verify_integrity, sort, copy)\u001b[0m\n\u001b[1;32m    380\u001b[0m     copy \u001b[38;5;241m=\u001b[39m \u001b[38;5;28;01mFalse\u001b[39;00m\n\u001b[1;32m    382\u001b[0m op \u001b[38;5;241m=\u001b[39m _Concatenator(\n\u001b[1;32m    383\u001b[0m     objs,\n\u001b[1;32m    384\u001b[0m     axis\u001b[38;5;241m=\u001b[39maxis,\n\u001b[0;32m   (...)\u001b[0m\n\u001b[1;32m    392\u001b[0m     sort\u001b[38;5;241m=\u001b[39msort,\n\u001b[1;32m    393\u001b[0m )\n\u001b[0;32m--> 395\u001b[0m \u001b[38;5;28;01mreturn\u001b[39;00m \u001b[43mop\u001b[49m\u001b[38;5;241;43m.\u001b[39;49m\u001b[43mget_result\u001b[49m\u001b[43m(\u001b[49m\u001b[43m)\u001b[49m\n",
      "File \u001b[0;32m/opt/miniconda3/envs/dsi_participant/lib/python3.9/site-packages/pandas/core/reshape/concat.py:684\u001b[0m, in \u001b[0;36m_Concatenator.get_result\u001b[0;34m(self)\u001b[0m\n\u001b[1;32m    680\u001b[0m             indexers[ax] \u001b[38;5;241m=\u001b[39m obj_labels\u001b[38;5;241m.\u001b[39mget_indexer(new_labels)\n\u001b[1;32m    682\u001b[0m     mgrs_indexers\u001b[38;5;241m.\u001b[39mappend((obj\u001b[38;5;241m.\u001b[39m_mgr, indexers))\n\u001b[0;32m--> 684\u001b[0m new_data \u001b[38;5;241m=\u001b[39m \u001b[43mconcatenate_managers\u001b[49m\u001b[43m(\u001b[49m\n\u001b[1;32m    685\u001b[0m \u001b[43m    \u001b[49m\u001b[43mmgrs_indexers\u001b[49m\u001b[43m,\u001b[49m\u001b[43m \u001b[49m\u001b[38;5;28;43mself\u001b[39;49m\u001b[38;5;241;43m.\u001b[39;49m\u001b[43mnew_axes\u001b[49m\u001b[43m,\u001b[49m\u001b[43m \u001b[49m\u001b[43mconcat_axis\u001b[49m\u001b[38;5;241;43m=\u001b[39;49m\u001b[38;5;28;43mself\u001b[39;49m\u001b[38;5;241;43m.\u001b[39;49m\u001b[43mbm_axis\u001b[49m\u001b[43m,\u001b[49m\u001b[43m \u001b[49m\u001b[43mcopy\u001b[49m\u001b[38;5;241;43m=\u001b[39;49m\u001b[38;5;28;43mself\u001b[39;49m\u001b[38;5;241;43m.\u001b[39;49m\u001b[43mcopy\u001b[49m\n\u001b[1;32m    686\u001b[0m \u001b[43m\u001b[49m\u001b[43m)\u001b[49m\n\u001b[1;32m    687\u001b[0m \u001b[38;5;28;01mif\u001b[39;00m \u001b[38;5;129;01mnot\u001b[39;00m \u001b[38;5;28mself\u001b[39m\u001b[38;5;241m.\u001b[39mcopy \u001b[38;5;129;01mand\u001b[39;00m \u001b[38;5;129;01mnot\u001b[39;00m using_copy_on_write():\n\u001b[1;32m    688\u001b[0m     new_data\u001b[38;5;241m.\u001b[39m_consolidate_inplace()\n",
      "File \u001b[0;32m/opt/miniconda3/envs/dsi_participant/lib/python3.9/site-packages/pandas/core/internals/concat.py:131\u001b[0m, in \u001b[0;36mconcatenate_managers\u001b[0;34m(mgrs_indexers, axes, concat_axis, copy)\u001b[0m\n\u001b[1;32m    124\u001b[0m \u001b[38;5;66;03m# Assertions disabled for performance\u001b[39;00m\n\u001b[1;32m    125\u001b[0m \u001b[38;5;66;03m# for tup in mgrs_indexers:\u001b[39;00m\n\u001b[1;32m    126\u001b[0m \u001b[38;5;66;03m#    # caller is responsible for ensuring this\u001b[39;00m\n\u001b[1;32m    127\u001b[0m \u001b[38;5;66;03m#    indexers = tup[1]\u001b[39;00m\n\u001b[1;32m    128\u001b[0m \u001b[38;5;66;03m#    assert concat_axis not in indexers\u001b[39;00m\n\u001b[1;32m    130\u001b[0m \u001b[38;5;28;01mif\u001b[39;00m concat_axis \u001b[38;5;241m==\u001b[39m \u001b[38;5;241m0\u001b[39m:\n\u001b[0;32m--> 131\u001b[0m     mgrs \u001b[38;5;241m=\u001b[39m \u001b[43m_maybe_reindex_columns_na_proxy\u001b[49m\u001b[43m(\u001b[49m\u001b[43maxes\u001b[49m\u001b[43m,\u001b[49m\u001b[43m \u001b[49m\u001b[43mmgrs_indexers\u001b[49m\u001b[43m,\u001b[49m\u001b[43m \u001b[49m\u001b[43mneeds_copy\u001b[49m\u001b[43m)\u001b[49m\n\u001b[1;32m    132\u001b[0m     \u001b[38;5;28;01mreturn\u001b[39;00m mgrs[\u001b[38;5;241m0\u001b[39m]\u001b[38;5;241m.\u001b[39mconcat_horizontal(mgrs, axes)\n\u001b[1;32m    134\u001b[0m \u001b[38;5;28;01mif\u001b[39;00m \u001b[38;5;28mlen\u001b[39m(mgrs_indexers) \u001b[38;5;241m>\u001b[39m \u001b[38;5;241m0\u001b[39m \u001b[38;5;129;01mand\u001b[39;00m mgrs_indexers[\u001b[38;5;241m0\u001b[39m][\u001b[38;5;241m0\u001b[39m]\u001b[38;5;241m.\u001b[39mnblocks \u001b[38;5;241m>\u001b[39m \u001b[38;5;241m0\u001b[39m:\n",
      "File \u001b[0;32m/opt/miniconda3/envs/dsi_participant/lib/python3.9/site-packages/pandas/core/internals/concat.py:230\u001b[0m, in \u001b[0;36m_maybe_reindex_columns_na_proxy\u001b[0;34m(axes, mgrs_indexers, needs_copy)\u001b[0m\n\u001b[1;32m    220\u001b[0m         mgr \u001b[38;5;241m=\u001b[39m mgr\u001b[38;5;241m.\u001b[39mreindex_indexer(\n\u001b[1;32m    221\u001b[0m             axes[i],\n\u001b[1;32m    222\u001b[0m             indexers[i],\n\u001b[0;32m   (...)\u001b[0m\n\u001b[1;32m    227\u001b[0m             use_na_proxy\u001b[38;5;241m=\u001b[39m\u001b[38;5;28;01mTrue\u001b[39;00m,  \u001b[38;5;66;03m# only relevant for i==0\u001b[39;00m\n\u001b[1;32m    228\u001b[0m         )\n\u001b[1;32m    229\u001b[0m     \u001b[38;5;28;01mif\u001b[39;00m needs_copy \u001b[38;5;129;01mand\u001b[39;00m \u001b[38;5;129;01mnot\u001b[39;00m indexers:\n\u001b[0;32m--> 230\u001b[0m         mgr \u001b[38;5;241m=\u001b[39m \u001b[43mmgr\u001b[49m\u001b[38;5;241;43m.\u001b[39;49m\u001b[43mcopy\u001b[49m\u001b[43m(\u001b[49m\u001b[43m)\u001b[49m\n\u001b[1;32m    232\u001b[0m     new_mgrs\u001b[38;5;241m.\u001b[39mappend(mgr)\n\u001b[1;32m    233\u001b[0m \u001b[38;5;28;01mreturn\u001b[39;00m new_mgrs\n",
      "File \u001b[0;32m/opt/miniconda3/envs/dsi_participant/lib/python3.9/site-packages/pandas/core/internals/managers.py:593\u001b[0m, in \u001b[0;36mBaseBlockManager.copy\u001b[0;34m(self, deep)\u001b[0m\n\u001b[1;32m    590\u001b[0m     \u001b[38;5;28;01melse\u001b[39;00m:\n\u001b[1;32m    591\u001b[0m         new_axes \u001b[38;5;241m=\u001b[39m \u001b[38;5;28mlist\u001b[39m(\u001b[38;5;28mself\u001b[39m\u001b[38;5;241m.\u001b[39maxes)\n\u001b[0;32m--> 593\u001b[0m res \u001b[38;5;241m=\u001b[39m \u001b[38;5;28;43mself\u001b[39;49m\u001b[38;5;241;43m.\u001b[39;49m\u001b[43mapply\u001b[49m\u001b[43m(\u001b[49m\u001b[38;5;124;43m\"\u001b[39;49m\u001b[38;5;124;43mcopy\u001b[39;49m\u001b[38;5;124;43m\"\u001b[39;49m\u001b[43m,\u001b[49m\u001b[43m \u001b[49m\u001b[43mdeep\u001b[49m\u001b[38;5;241;43m=\u001b[39;49m\u001b[43mdeep\u001b[49m\u001b[43m)\u001b[49m\n\u001b[1;32m    594\u001b[0m res\u001b[38;5;241m.\u001b[39maxes \u001b[38;5;241m=\u001b[39m new_axes\n\u001b[1;32m    596\u001b[0m \u001b[38;5;28;01mif\u001b[39;00m \u001b[38;5;28mself\u001b[39m\u001b[38;5;241m.\u001b[39mndim \u001b[38;5;241m>\u001b[39m \u001b[38;5;241m1\u001b[39m:\n\u001b[1;32m    597\u001b[0m     \u001b[38;5;66;03m# Avoid needing to re-compute these\u001b[39;00m\n",
      "File \u001b[0;32m/opt/miniconda3/envs/dsi_participant/lib/python3.9/site-packages/pandas/core/internals/managers.py:363\u001b[0m, in \u001b[0;36mBaseBlockManager.apply\u001b[0;34m(self, f, align_keys, **kwargs)\u001b[0m\n\u001b[1;32m    361\u001b[0m         applied \u001b[38;5;241m=\u001b[39m b\u001b[38;5;241m.\u001b[39mapply(f, \u001b[38;5;241m*\u001b[39m\u001b[38;5;241m*\u001b[39mkwargs)\n\u001b[1;32m    362\u001b[0m     \u001b[38;5;28;01melse\u001b[39;00m:\n\u001b[0;32m--> 363\u001b[0m         applied \u001b[38;5;241m=\u001b[39m \u001b[38;5;28;43mgetattr\u001b[39;49m\u001b[43m(\u001b[49m\u001b[43mb\u001b[49m\u001b[43m,\u001b[49m\u001b[43m \u001b[49m\u001b[43mf\u001b[49m\u001b[43m)\u001b[49m\u001b[43m(\u001b[49m\u001b[38;5;241;43m*\u001b[39;49m\u001b[38;5;241;43m*\u001b[39;49m\u001b[43mkwargs\u001b[49m\u001b[43m)\u001b[49m\n\u001b[1;32m    364\u001b[0m     result_blocks \u001b[38;5;241m=\u001b[39m extend_blocks(applied, result_blocks)\n\u001b[1;32m    366\u001b[0m out \u001b[38;5;241m=\u001b[39m \u001b[38;5;28mtype\u001b[39m(\u001b[38;5;28mself\u001b[39m)\u001b[38;5;241m.\u001b[39mfrom_blocks(result_blocks, \u001b[38;5;28mself\u001b[39m\u001b[38;5;241m.\u001b[39maxes)\n",
      "File \u001b[0;32m/opt/miniconda3/envs/dsi_participant/lib/python3.9/site-packages/pandas/core/internals/blocks.py:796\u001b[0m, in \u001b[0;36mBlock.copy\u001b[0;34m(self, deep)\u001b[0m\n\u001b[1;32m    794\u001b[0m refs: BlockValuesRefs \u001b[38;5;241m|\u001b[39m \u001b[38;5;28;01mNone\u001b[39;00m\n\u001b[1;32m    795\u001b[0m \u001b[38;5;28;01mif\u001b[39;00m deep:\n\u001b[0;32m--> 796\u001b[0m     values \u001b[38;5;241m=\u001b[39m \u001b[43mvalues\u001b[49m\u001b[38;5;241;43m.\u001b[39;49m\u001b[43mcopy\u001b[49m\u001b[43m(\u001b[49m\u001b[43m)\u001b[49m\n\u001b[1;32m    797\u001b[0m     refs \u001b[38;5;241m=\u001b[39m \u001b[38;5;28;01mNone\u001b[39;00m\n\u001b[1;32m    798\u001b[0m \u001b[38;5;28;01melse\u001b[39;00m:\n",
      "\u001b[0;31mKeyboardInterrupt\u001b[0m: "
     ]
    }
   ],
   "source": [
    "data"
   ]
  },
  {
   "cell_type": "markdown",
   "metadata": {},
   "source": [
    "### Step 2: Preprocess the Data"
   ]
  },
  {
   "cell_type": "code",
   "execution_count": null,
   "metadata": {},
   "outputs": [],
   "source": [
    "# Separate features (X) and target (y)\n",
    "X = data.drop(columns=['Diabetes_012'])  # Drop target column\n",
    "y = data['Diabetes_012']  # Target column\n",
    "\n",
    "# Split the data into training and testing sets\n",
    "X_train, X_test, y_train, y_test = train_test_split(X, y, test_size=0.2, random_state=42)\n",
    "\n",
    "# Scale the features for better performance\n",
    "scaler = StandardScaler()\n",
    "X_train_scaled = scaler.fit_transform(X_train)\n",
    "X_test_scaled = scaler.transform(X_test)\n"
   ]
  },
  {
   "cell_type": "markdown",
   "metadata": {},
   "source": [
    "### Step 3: Train a Logistic Regression Model"
   ]
  },
  {
   "cell_type": "code",
   "execution_count": null,
   "metadata": {},
   "outputs": [],
   "source": [
    "# Initialize and train the logistic regression model\n",
    "log_reg = LogisticRegression(max_iter=1000, random_state=42)\n",
    "log_reg.fit(X_train_scaled, y_train)\n",
    "\n",
    "# Make predictions on the test set\n",
    "y_pred = log_reg.predict(X_test_scaled)\n",
    "y_pred_proba = log_reg.predict_proba(X_test_scaled)\n"
   ]
  },
  {
   "cell_type": "markdown",
   "metadata": {},
   "source": [
    "### Step 4: Evaluate the Model"
   ]
  },
  {
   "cell_type": "code",
   "execution_count": null,
   "metadata": {},
   "outputs": [
    {
     "name": "stdout",
     "output_type": "stream",
     "text": [
      "Confusion Matrix:\n",
      "[[41754     0  1041]\n",
      " [  871     0    73]\n",
      " [ 5714     0  1283]]\n"
     ]
    },
    {
     "name": "stderr",
     "output_type": "stream",
     "text": [
      "/opt/miniconda3/envs/dsi_participant/lib/python3.9/site-packages/sklearn/metrics/_classification.py:1531: UndefinedMetricWarning: Precision is ill-defined and being set to 0.0 in labels with no predicted samples. Use `zero_division` parameter to control this behavior.\n",
      "  _warn_prf(average, modifier, f\"{metric.capitalize()} is\", len(result))\n",
      "/opt/miniconda3/envs/dsi_participant/lib/python3.9/site-packages/sklearn/metrics/_classification.py:1531: UndefinedMetricWarning: Precision is ill-defined and being set to 0.0 in labels with no predicted samples. Use `zero_division` parameter to control this behavior.\n",
      "  _warn_prf(average, modifier, f\"{metric.capitalize()} is\", len(result))\n",
      "/opt/miniconda3/envs/dsi_participant/lib/python3.9/site-packages/sklearn/metrics/_classification.py:1531: UndefinedMetricWarning: Precision is ill-defined and being set to 0.0 in labels with no predicted samples. Use `zero_division` parameter to control this behavior.\n",
      "  _warn_prf(average, modifier, f\"{metric.capitalize()} is\", len(result))\n"
     ]
    },
    {
     "name": "stdout",
     "output_type": "stream",
     "text": [
      "\n",
      "Classification Report:\n",
      "              precision    recall  f1-score   support\n",
      "\n",
      "         0.0      0.864     0.976     0.916     42795\n",
      "         1.0      0.000     0.000     0.000       944\n",
      "         2.0      0.535     0.183     0.273      6997\n",
      "\n",
      "    accuracy                          0.848     50736\n",
      "   macro avg      0.466     0.386     0.396     50736\n",
      "weighted avg      0.802     0.848     0.811     50736\n",
      "\n",
      "\n",
      "ROC-AUC Score (Multiclass): 0.782\n"
     ]
    }
   ],
   "source": [
    "# Confusion matrix\n",
    "conf_matrix = confusion_matrix(y_test, y_pred)\n",
    "print(\"Confusion Matrix:\")\n",
    "print(conf_matrix)\n",
    "\n",
    "# Classification report\n",
    "class_report = classification_report(y_test, y_pred, digits=3)\n",
    "print(\"\\nClassification Report:\")\n",
    "print(class_report)\n",
    "\n",
    "# ROC-AUC score (multiclass setting)\n",
    "roc_auc_multiclass = roc_auc_score(y_test, y_pred_proba, multi_class='ovr')\n",
    "print(f\"\\nROC-AUC Score (Multiclass): {roc_auc_multiclass:.3f}\")\n"
   ]
  },
  {
   "cell_type": "markdown",
   "metadata": {},
   "source": [
    "# Interpretation of Results\n",
    "\n",
    "## 1. Confusion Matrix\n",
    "The confusion matrix shows how well the model predicted each class:\n",
    "\n",
    "- **Rows:** True labels.\n",
    "- **Columns:** Predicted labels.\n",
    "\n",
    "Each row corresponds to one true class:\n",
    "\n",
    "- **Class 0 (No Diabetes):**\n",
    "  - Correctly classified as Class 0: **41,754**\n",
    "  - Incorrectly classified as Class 2: **1,041**\n",
    "  - Misclassified as Class 1: **0**\n",
    "\n",
    "- **Class 1 (Pre-Diabetes):**\n",
    "  - Correctly classified as Class 1: **0**\n",
    "  - Misclassified as Class 0: **871**\n",
    "  - Misclassified as Class 2: **73**\n",
    "\n",
    "- **Class 2 (Diabetes):**\n",
    "  - Correctly classified as Class 2: **1,283**\n",
    "  - Misclassified as Class 0: **5,714**\n",
    "  - Misclassified as Class 1: **0**\n",
    "\n",
    "## 2. Classification Report\n",
    "- **Precision:** Proportion of true positives out of all predicted positives for a class.\n",
    "- **Recall:** Proportion of true positives out of all actual positives for a class.\n",
    "- **F1-Score:** Harmonic mean of precision and recall (balancing false positives and false negatives).\n",
    "\n",
    "### Key Observations:\n",
    "- **Class 0** has the highest performance:\n",
    "  - Precision = **0.864**\n",
    "  - Recall = **0.976**\n",
    "- **Class 1** predictions are completely ineffective:\n",
    "  - Precision = **0.000**\n",
    "  - Recall = **0.000**\n",
    "- **Class 2** predictions are moderate but limited:\n",
    "  - Precision = **0.535**\n",
    "  - Recall = **0.183**\n",
    "- The **macro average** (average of metrics for all classes) indicates poor performance for minority classes (Classes 1 and 2).\n",
    "\n",
    "## 3. ROC-AUC Score (Multiclass): **0.782**\n",
    "- The ROC-AUC score of **0.782** suggests decent overall performance in distinguishing between the three classes.\n",
    "- However, the low precision and recall for Classes 1 and 2 indicate the model struggles with these minority classes.\n",
    "\n",
    "\n",
    "## Summary\n",
    "### Strengths:\n",
    "- The model performs well in predicting **Class 0 (No Diabetes)**, which is the majority class.\n",
    "- The **ROC-AUC score** indicates the model has potential.\n",
    "\n",
    "### Weaknesses:\n",
    "- Poor performance for **Classes 1 (Pre-Diabetes)** and **2 (Diabetes)**.\n",
    "- Class imbalance is likely causing the model to focus on the majority class.\n",
    "\n",
    "### Current Status:\n",
    "Findings so far: The model demonstrates strong performance for predicting individuals without diabetes (Class 0). However, it struggles with minority classes (pre-diabetes and diabetes).\n",
    "Conclusion at this stage: The survey questions provide some predictive power, especially for identifying individuals without diabetes. However, the model's poor performance on minority classes indicates the need for further refinement."
   ]
  },
  {
   "cell_type": "markdown",
   "metadata": {},
   "source": [
    "## Handling Class Imbalance\n",
    "\n",
    "We will use SMOTE (Synthetic Minority Oversampling Technique) to balance the classes in the training dataset. This will generate synthetic samples for the minority classes, improving model fairness."
   ]
  },
  {
   "cell_type": "markdown",
   "metadata": {},
   "source": [
    "### Step 1: Install and Import Required Libraries"
   ]
  },
  {
   "cell_type": "code",
   "execution_count": null,
   "metadata": {},
   "outputs": [],
   "source": [
    "from imblearn.over_sampling import SMOTE\n",
    "from collections import Counter\n"
   ]
  },
  {
   "cell_type": "code",
   "execution_count": null,
   "metadata": {},
   "outputs": [
    {
     "name": "stdout",
     "output_type": "stream",
     "text": [
      "imblearn and SMOTE imported successfully!\n"
     ]
    }
   ],
   "source": [
    "from imblearn.over_sampling import SMOTE\n",
    "from collections import Counter\n",
    "print(\"imblearn and SMOTE imported successfully!\")\n"
   ]
  },
  {
   "cell_type": "markdown",
   "metadata": {},
   "source": [
    "### Step 2: Apply SMOTE"
   ]
  },
  {
   "cell_type": "code",
   "execution_count": null,
   "metadata": {},
   "outputs": [
    {
     "name": "stdout",
     "output_type": "stream",
     "text": [
      "Class distribution before SMOTE: Counter({0.0: 170908, 2.0: 28349, 1.0: 3687})\n",
      "Class distribution after SMOTE: Counter({0.0: 170908, 2.0: 170908, 1.0: 170908})\n"
     ]
    }
   ],
   "source": [
    "# Display class distribution before balancing\n",
    "print(\"Class distribution before SMOTE:\", Counter(y_train))\n",
    "\n",
    "# Apply SMOTE to oversample the minority classes\n",
    "smote = SMOTE(random_state=42)\n",
    "X_train_balanced, y_train_balanced = smote.fit_resample(X_train_scaled, y_train)\n",
    "\n",
    "# Display class distribution after balancing\n",
    "print(\"Class distribution after SMOTE:\", Counter(y_train_balanced))\n"
   ]
  },
  {
   "cell_type": "markdown",
   "metadata": {},
   "source": [
    "### Step 3: Retrain Logistic Regression Model"
   ]
  },
  {
   "cell_type": "code",
   "execution_count": null,
   "metadata": {},
   "outputs": [
    {
     "name": "stdout",
     "output_type": "stream",
     "text": [
      "Confusion Matrix (Balanced):\n",
      "[[28260  7466  7069]\n",
      " [  269   304   371]\n",
      " [ 1116  1813  4068]]\n",
      "\n",
      "Classification Report (Balanced):\n",
      "              precision    recall  f1-score   support\n",
      "\n",
      "         0.0      0.953     0.660     0.780     42795\n",
      "         1.0      0.032     0.322     0.058       944\n",
      "         2.0      0.353     0.581     0.440      6997\n",
      "\n",
      "    accuracy                          0.643     50736\n",
      "   macro avg      0.446     0.521     0.426     50736\n",
      "weighted avg      0.853     0.643     0.720     50736\n",
      "\n",
      "\n",
      "ROC-AUC Score (Balanced): 0.774\n"
     ]
    }
   ],
   "source": [
    "# Retrain the logistic regression model on the balanced data\n",
    "log_reg_balanced = LogisticRegression(max_iter=1000, random_state=42)\n",
    "log_reg_balanced.fit(X_train_balanced, y_train_balanced)\n",
    "\n",
    "# Evaluate the model on the test set\n",
    "y_pred_balanced = log_reg_balanced.predict(X_test_scaled)\n",
    "y_pred_proba_balanced = log_reg_balanced.predict_proba(X_test_scaled)\n",
    "\n",
    "# Confusion matrix\n",
    "print(\"Confusion Matrix (Balanced):\")\n",
    "print(confusion_matrix(y_test, y_pred_balanced))\n",
    "\n",
    "# Classification report\n",
    "print(\"\\nClassification Report (Balanced):\")\n",
    "print(classification_report(y_test, y_pred_balanced, digits=3))\n",
    "\n",
    "# ROC-AUC score\n",
    "roc_auc_balanced = roc_auc_score(y_test, y_pred_proba_balanced, multi_class='ovr')\n",
    "print(f\"\\nROC-AUC Score (Balanced): {roc_auc_balanced:.3f}\")\n"
   ]
  },
  {
   "cell_type": "markdown",
   "metadata": {},
   "source": [
    "# Interpretation of Results After Handling Class Imbalance\n",
    "\n",
    "## 1. Confusion Matrix (Balanced)\n",
    "\n",
    "### Class 0 (No Diabetes):\n",
    "- **Correct Predictions:** 28,260  \n",
    "- **Misclassified as Class 1 (Pre-Diabetes):** 7,466  \n",
    "- **Misclassified as Class 2 (Diabetes):** 7,069  \n",
    "\n",
    "### Class 1 (Pre-Diabetes):\n",
    "- **Correct Predictions:** 304 (still low, but better than before)  \n",
    "- **Misclassified as Class 0:** 269  \n",
    "- **Misclassified as Class 2:** 371  \n",
    "\n",
    "### Class 2 (Diabetes):\n",
    "- **Correct Predictions:** 4,068  \n",
    "- **Misclassified as Class 0:** 1,116  \n",
    "- **Misclassified as Class 1:** 1,813  \n",
    "\n",
    "\n",
    "\n",
    "## 2. Classification Report (Balanced)\n",
    "\n",
    "### Class 0 (No Diabetes):\n",
    "- **Precision:** 0.953 (remains very high)  \n",
    "- **Recall:** 0.660 (dropped, indicating a more conservative model for Class 0 predictions)  \n",
    "\n",
    "### Class 1 (Pre-Diabetes):\n",
    "- **Recall:** Small improvement (0 → 0.322)  \n",
    "- **Precision:** Still very poor (0.032)  \n",
    "\n",
    "### Class 2 (Diabetes):\n",
    "- **Recall:** Moderate improvement (0.183 → 0.581)  \n",
    "- **Precision:** Improved (0.353 from 0.535)  \n",
    "\n",
    "### Averages:\n",
    "- **Macro Average:** Shows moderate performance across all classes  \n",
    "- **Weighted Average:** Reflects overall accuracy (64.3%), heavily weighted by Class 0  \n",
    "\n",
    "\n",
    "\n",
    "## 3. ROC-AUC Score (Balanced)\n",
    "- **Score:** 0.774  \n",
    "- Slightly lower than before balancing (0.782 → 0.774), expected due to better minority class predictions impacting majority class performance.  \n",
    "\n",
    "\n",
    "\n",
    "## Insights\n",
    "\n",
    "### Strengths:\n",
    "- Improved **recall** for minority classes, especially **Class 2 (Diabetes)**.  \n",
    "- **Class 0 (No Diabetes)** maintains strong **precision**.  \n",
    "- Addressed the prediction gap for minority classes partially.  \n",
    "\n",
    "### Weaknesses:\n",
    "- **Class 1 (Pre-Diabetes):** Very challenging to predict, with poor precision and F1-score.  \n",
    "- Overall accuracy dropped as the model focuses more on minority classes.  \n",
    "\n",
    "\n",
    "\n",
    "## Conclusion for the Question\n",
    "Balancing the dataset improved the model's ability to predict minority classes, highlighting the utility of BRFSS survey questions for identifying diabetes risks. However, further refinements are necessary for robust predictions, especially for Class 1.  \n",
    "\n",
    "\n",
    "\n"
   ]
  },
  {
   "cell_type": "markdown",
   "metadata": {},
   "source": [
    "## Next Step: Move to XGBoost\n",
    "XGBoost is a more sophisticated model capable of capturing non-linear relationships and handling class imbalances effectively.\n"
   ]
  },
  {
   "cell_type": "markdown",
   "metadata": {},
   "source": [
    "### Step 1: Install and Import XGBoost"
   ]
  },
  {
   "cell_type": "code",
   "execution_count": null,
   "metadata": {},
   "outputs": [],
   "source": [
    "# Install XGBoost if not already installed\n",
    "# !pip install xgboost\n",
    "\n",
    "from xgboost import XGBClassifier\n"
   ]
  },
  {
   "cell_type": "markdown",
   "metadata": {},
   "source": [
    "### Step 2: Train XGBoost"
   ]
  },
  {
   "cell_type": "code",
   "execution_count": null,
   "metadata": {},
   "outputs": [
    {
     "name": "stderr",
     "output_type": "stream",
     "text": [
      "/opt/miniconda3/envs/dsi_participant/lib/python3.9/site-packages/xgboost/core.py:158: UserWarning: [16:42:03] WARNING: /Users/runner/work/xgboost/xgboost/src/learner.cc:740: \n",
      "Parameters: { \"use_label_encoder\" } are not used.\n",
      "\n",
      "  warnings.warn(smsg, UserWarning)\n"
     ]
    },
    {
     "name": "stdout",
     "output_type": "stream",
     "text": [
      "Confusion Matrix (XGBoost):\n",
      "[[41242     0  1553]\n",
      " [  811     0   133]\n",
      " [ 5226     0  1771]]\n",
      "\n",
      "Classification Report (XGBoost):\n"
     ]
    },
    {
     "name": "stderr",
     "output_type": "stream",
     "text": [
      "/opt/miniconda3/envs/dsi_participant/lib/python3.9/site-packages/sklearn/metrics/_classification.py:1531: UndefinedMetricWarning: Precision is ill-defined and being set to 0.0 in labels with no predicted samples. Use `zero_division` parameter to control this behavior.\n",
      "  _warn_prf(average, modifier, f\"{metric.capitalize()} is\", len(result))\n",
      "/opt/miniconda3/envs/dsi_participant/lib/python3.9/site-packages/sklearn/metrics/_classification.py:1531: UndefinedMetricWarning: Precision is ill-defined and being set to 0.0 in labels with no predicted samples. Use `zero_division` parameter to control this behavior.\n",
      "  _warn_prf(average, modifier, f\"{metric.capitalize()} is\", len(result))\n",
      "/opt/miniconda3/envs/dsi_participant/lib/python3.9/site-packages/sklearn/metrics/_classification.py:1531: UndefinedMetricWarning: Precision is ill-defined and being set to 0.0 in labels with no predicted samples. Use `zero_division` parameter to control this behavior.\n",
      "  _warn_prf(average, modifier, f\"{metric.capitalize()} is\", len(result))\n"
     ]
    },
    {
     "name": "stdout",
     "output_type": "stream",
     "text": [
      "              precision    recall  f1-score   support\n",
      "\n",
      "         0.0      0.872     0.964     0.916     42795\n",
      "         1.0      0.000     0.000     0.000       944\n",
      "         2.0      0.512     0.253     0.339      6997\n",
      "\n",
      "    accuracy                          0.848     50736\n",
      "   macro avg      0.462     0.406     0.418     50736\n",
      "weighted avg      0.806     0.848     0.819     50736\n",
      "\n",
      "\n",
      "ROC-AUC Score (XGBoost): 0.764\n"
     ]
    }
   ],
   "source": [
    "import numpy as np\n",
    "from xgboost import XGBClassifier\n",
    "from sklearn.metrics import classification_report, confusion_matrix, roc_auc_score\n",
    "\n",
    "# Convert target variable to NumPy array (ensure compatibility)\n",
    "y_train_balanced = np.array(y_train_balanced)\n",
    "\n",
    "# Initialize and train the XGBoost model\n",
    "xgb = XGBClassifier(use_label_encoder=False, eval_metric='mlogloss', random_state=42)\n",
    "xgb.fit(X_train_balanced, y_train_balanced)\n",
    "\n",
    "# Make predictions on the test set\n",
    "y_pred_xgb = xgb.predict(X_test_scaled)\n",
    "y_pred_proba_xgb = xgb.predict_proba(X_test_scaled)\n",
    "\n",
    "# Confusion matrix\n",
    "print(\"Confusion Matrix (XGBoost):\")\n",
    "print(confusion_matrix(y_test, y_pred_xgb))\n",
    "\n",
    "# Classification report\n",
    "print(\"\\nClassification Report (XGBoost):\")\n",
    "print(classification_report(y_test, y_pred_xgb, digits=3))\n",
    "\n",
    "# ROC-AUC score\n",
    "roc_auc_xgb = roc_auc_score(y_test, y_pred_proba_xgb, multi_class='ovr')\n",
    "print(f\"\\nROC-AUC Score (XGBoost): {roc_auc_xgb:.3f}\")\n"
   ]
  },
  {
   "cell_type": "markdown",
   "metadata": {},
   "source": [
    "# Interpretation of XGBoost Results\n",
    "\n",
    "## 1. Classification Report\n",
    "\n",
    "- **Class 0 (No Diabetes):**  \n",
    "  Excellent performance with high precision (0.872) and recall (0.964), resulting in a strong F1-score (0.916).\n",
    "\n",
    "- **Class 1 (Pre-Diabetes):**  \n",
    "  No improvement; the model fails to predict pre-diabetes cases (precision = 0.000, recall = 0.000).\n",
    "\n",
    "- **Class 2 (Diabetes):**  \n",
    "  Moderate precision (0.512) and low recall (0.253), indicating some improvement in identifying diabetes cases.\n",
    "\n",
    "## 2. ROC-AUC Score\n",
    "\n",
    "- **ROC-AUC Score (0.764):**  \n",
    "  Slightly lower than the SMOTE-Logistic Regression model (0.774). This indicates the model is still struggling to separate minority classes effectively.\n",
    "\n",
    "\n",
    "\n",
    "## Insights\n",
    "\n",
    "### Strengths:\n",
    "- The model excels at predicting **Class 0 (No Diabetes)**, reflecting the dominant class in the dataset.\n",
    "- Slight improvement in predicting **Class 2 (Diabetes)** compared to the initial Logistic Regression without SMOTE.\n",
    "\n",
    "### Weaknesses:\n",
    "- The model continues to ignore **Class 1 (Pre-Diabetes)**, likely due to extreme class imbalance and overlap in features between Classes 0 and 1.\n",
    "- The overall performance (macro and weighted averages) is heavily influenced by the dominant class.\n",
    "\n",
    "\n",
    "\n",
    "## Conclusions for the Question\n",
    "\n",
    "**\"Can survey questions from the BRFSS provide accurate predictions of whether an individual has diabetes?\"**\n",
    "\n",
    "- The survey questions are effective in predicting **no diabetes cases (Class 0)**.\n",
    "- Predictions for **pre-diabetes (Class 1)** remain ineffective, likely due to class imbalance and overlapping features.\n",
    "- Predictions for **diabetes cases (Class 2)** show moderate improvement but require further refinement.\n",
    "\n",
    "\n",
    "\n",
    "\n"
   ]
  },
  {
   "cell_type": "markdown",
   "metadata": {},
   "source": [
    "\n",
    "## Next Steps\n",
    "\n",
    "### Enhance the Model:\n",
    "- Perform hyperparameter tuning on XGBoost to optimize performance for minority classes.\n",
    "- Use custom class weights to emphasize minority classes during training.\n",
    "\n",
    "- Hyperparameter tuning can significantly improve your model's performance. We'll use RandomizedSearchCV or GridSearchCV from sklearn to find the best hyperparameters for your XGBoost model."
   ]
  },
  {
   "cell_type": "markdown",
   "metadata": {},
   "source": [
    "### Step 1: Define the Search Space\n",
    "#### Guide to Hyperparameter Tuning for XGBoost\n",
    "\n",
    "Hyperparameter tuning can significantly improve your model's performance. We'll use `RandomizedSearchCV` or `GridSearchCV` from `sklearn` to find the best hyperparameters for your XGBoost model.\n",
    "\n",
    "## Step 1: Define the Search Space\n",
    "\n",
    "XGBoost has several hyperparameters. Here are the key ones to tune:\n",
    "\n",
    "- **`n_estimators`**: Number of trees in the model.\n",
    "- **`max_depth`**: Maximum depth of each tree (controls model complexity).\n",
    "- **`learning_rate`**: Step size for weight updates.\n",
    "- **`subsample`**: Fraction of samples used for training each tree.\n",
    "- **`colsample_bytree`**: Fraction of features used per tree.\n",
    "- **`gamma`**: Minimum loss reduction to split a node.\n",
    "- **`reg_lambda` (L2 regularization)**: Adds a penalty for large weights.\n",
    "\n",
    "\n",
    "\n"
   ]
  },
  {
   "cell_type": "markdown",
   "metadata": {},
   "source": [
    "### Step 2: Set Up RandomizedSearchCV\n",
    "RandomizedSearchCV performs hyperparameter tuning faster than GridSearchCV by sampling a random subset of the parameter space."
   ]
  },
  {
   "cell_type": "code",
   "execution_count": 35,
   "metadata": {},
   "outputs": [
    {
     "name": "stderr",
     "output_type": "stream",
     "text": [
      "/opt/miniconda3/envs/dsi_participant/lib/python3.9/site-packages/sklearn/metrics/_scorer.py:610: FutureWarning: The `needs_threshold` and `needs_proba` parameter are deprecated in version 1.4 and will be removed in 1.6. You can either let `response_method` be `None` or set it to `predict` to preserve the same behaviour.\n",
      "  warnings.warn(\n"
     ]
    },
    {
     "name": "stdout",
     "output_type": "stream",
     "text": [
      "Fitting 2 folds for each of 5 candidates, totalling 10 fits\n",
      "[CV] END colsample_bytree=0.8, gamma=0.1, learning_rate=0.2, max_depth=5, n_estimators=100, reg_lambda=5, subsample=0.8; total time=  43.1s\n",
      "[CV] END colsample_bytree=0.8, gamma=0.1, learning_rate=0.2, max_depth=5, n_estimators=100, reg_lambda=5, subsample=0.8; total time=  43.3s\n",
      "[CV] END colsample_bytree=0.8, gamma=0, learning_rate=0.2, max_depth=5, n_estimators=150, reg_lambda=5, subsample=0.8; total time= 1.1min\n",
      "[CV] END colsample_bytree=0.8, gamma=0, learning_rate=0.2, max_depth=5, n_estimators=150, reg_lambda=5, subsample=0.8; total time= 1.1min\n",
      "[CV] END colsample_bytree=0.8, gamma=0.1, learning_rate=0.2, max_depth=3, n_estimators=100, reg_lambda=1, subsample=0.8; total time=  40.0s\n",
      "[CV] END colsample_bytree=0.8, gamma=0.1, learning_rate=0.2, max_depth=3, n_estimators=100, reg_lambda=1, subsample=0.8; total time=  40.3s\n",
      "[CV] END colsample_bytree=0.8, gamma=0.1, learning_rate=0.1, max_depth=3, n_estimators=100, reg_lambda=5, subsample=0.8; total time=  37.5s\n",
      "[CV] END colsample_bytree=0.8, gamma=0.1, learning_rate=0.1, max_depth=3, n_estimators=100, reg_lambda=5, subsample=0.8; total time=  37.0s\n",
      "[CV] END colsample_bytree=0.8, gamma=0, learning_rate=0.2, max_depth=3, n_estimators=100, reg_lambda=1, subsample=0.8; total time=  27.5s\n",
      "[CV] END colsample_bytree=0.8, gamma=0, learning_rate=0.2, max_depth=3, n_estimators=100, reg_lambda=1, subsample=0.8; total time=  27.2s\n",
      "Best Parameters: {'subsample': 0.8, 'reg_lambda': 5, 'n_estimators': 150, 'max_depth': 5, 'learning_rate': 0.2, 'gamma': 0, 'colsample_bytree': 0.8}\n"
     ]
    }
   ],
   "source": [
    "from sklearn.metrics import make_scorer, roc_auc_score\n",
    "from sklearn.model_selection import RandomizedSearchCV\n",
    "from xgboost import XGBClassifier\n",
    "\n",
    "# Define the scoring function\n",
    "scoring = make_scorer(roc_auc_score, multi_class='ovr', needs_proba=True)\n",
    "\n",
    "# Define the parameter grid\n",
    "param_grid = {\n",
    "    'n_estimators': [100, 150],\n",
    "    'max_depth': [3, 5],\n",
    "    'learning_rate': [0.1, 0.2],\n",
    "    'subsample': [0.8],\n",
    "    'colsample_bytree': [0.8],\n",
    "    'gamma': [0, 0.1],\n",
    "    'reg_lambda': [1, 5],\n",
    "}\n",
    "\n",
    "# Initialize the XGBoost model\n",
    "xgb = XGBClassifier(eval_metric='mlogloss', random_state=42)\n",
    "\n",
    "# Set up RandomizedSearchCV with fewer combinations for faster runtime\n",
    "random_search = RandomizedSearchCV(\n",
    "    estimator=xgb,\n",
    "    param_distributions=param_grid,\n",
    "    n_iter=5,  # Reduce number of parameter combinations to limit runtime\n",
    "    scoring=scoring,\n",
    "    cv=2,  # Reduce cross-validation folds\n",
    "    verbose=2,\n",
    "    random_state=42,\n",
    "    n_jobs=-1  # Use all available cores\n",
    ")\n",
    "\n",
    "# Fit RandomizedSearchCV\n",
    "random_search.fit(X_train_balanced, y_train_balanced)\n",
    "\n",
    "# Display the best parameters\n",
    "print(\"Best Parameters:\", random_search.best_params_)\n"
   ]
  },
  {
   "cell_type": "markdown",
   "metadata": {},
   "source": [
    "### Step 3: Evaluate the Tuned Model\n",
    "Once the best parameters are identified, use them to train a new XGBoost model:"
   ]
  },
  {
   "cell_type": "code",
   "execution_count": 36,
   "metadata": {},
   "outputs": [
    {
     "name": "stdout",
     "output_type": "stream",
     "text": [
      "Confusion Matrix (Tuned XGBoost):\n",
      "[[41096     0  1699]\n",
      " [  812     0   132]\n",
      " [ 5088     0  1909]]\n",
      "\n",
      "Classification Report (Tuned XGBoost):\n"
     ]
    },
    {
     "name": "stderr",
     "output_type": "stream",
     "text": [
      "/opt/miniconda3/envs/dsi_participant/lib/python3.9/site-packages/sklearn/metrics/_classification.py:1531: UndefinedMetricWarning: Precision is ill-defined and being set to 0.0 in labels with no predicted samples. Use `zero_division` parameter to control this behavior.\n",
      "  _warn_prf(average, modifier, f\"{metric.capitalize()} is\", len(result))\n",
      "/opt/miniconda3/envs/dsi_participant/lib/python3.9/site-packages/sklearn/metrics/_classification.py:1531: UndefinedMetricWarning: Precision is ill-defined and being set to 0.0 in labels with no predicted samples. Use `zero_division` parameter to control this behavior.\n",
      "  _warn_prf(average, modifier, f\"{metric.capitalize()} is\", len(result))\n",
      "/opt/miniconda3/envs/dsi_participant/lib/python3.9/site-packages/sklearn/metrics/_classification.py:1531: UndefinedMetricWarning: Precision is ill-defined and being set to 0.0 in labels with no predicted samples. Use `zero_division` parameter to control this behavior.\n",
      "  _warn_prf(average, modifier, f\"{metric.capitalize()} is\", len(result))\n"
     ]
    },
    {
     "name": "stdout",
     "output_type": "stream",
     "text": [
      "              precision    recall  f1-score   support\n",
      "\n",
      "         0.0      0.874     0.960     0.915     42795\n",
      "         1.0      0.000     0.000     0.000       944\n",
      "         2.0      0.510     0.273     0.356      6997\n",
      "\n",
      "    accuracy                          0.848     50736\n",
      "   macro avg      0.462     0.411     0.424     50736\n",
      "weighted avg      0.808     0.848     0.821     50736\n",
      "\n",
      "\n",
      "ROC-AUC Score (Tuned XGBoost): 0.768\n"
     ]
    }
   ],
   "source": [
    "# Retrieve the best parameters\n",
    "best_params = random_search.best_params_\n",
    "\n",
    "# Train the final model with the best parameters\n",
    "xgb_tuned = XGBClassifier(**best_params, eval_metric='mlogloss', random_state=42)\n",
    "xgb_tuned.fit(X_train_balanced, y_train_balanced)\n",
    "\n",
    "# Make predictions\n",
    "y_pred_xgb_tuned = xgb_tuned.predict(X_test_scaled)\n",
    "y_pred_proba_xgb_tuned = xgb_tuned.predict_proba(X_test_scaled)\n",
    "\n",
    "# Confusion matrix\n",
    "print(\"Confusion Matrix (Tuned XGBoost):\")\n",
    "print(confusion_matrix(y_test, y_pred_xgb_tuned))\n",
    "\n",
    "# Classification report\n",
    "print(\"\\nClassification Report (Tuned XGBoost):\")\n",
    "print(classification_report(y_test, y_pred_xgb_tuned, digits=3))\n",
    "\n",
    "# ROC-AUC score\n",
    "roc_auc_xgb_tuned = roc_auc_score(y_test, y_pred_proba_xgb_tuned, multi_class='ovr')\n",
    "print(f\"\\nROC-AUC Score (Tuned XGBoost): {roc_auc_xgb_tuned:.3f}\")\n"
   ]
  },
  {
   "cell_type": "markdown",
   "metadata": {},
   "source": [
    "# Interpretation of Tuned XGBoost Results\n",
    "\n",
    "## 1. Confusion Matrix\n",
    "\n",
    "- **Class 0 (No Diabetes)**:\n",
    "  - Correctly classified as Class 0: **41,096**.\n",
    "  - Misclassified as Class 2: **1,699**.\n",
    "  - No misclassification as Class 1.\n",
    "\n",
    "- **Class 1 (Pre-Diabetes)**:\n",
    "  - Correctly classified as Class 1: **0** (the model fails to predict any Class 1 instances).\n",
    "  - Misclassified as Class 0: **812**.\n",
    "  - Misclassified as Class 2: **132**.\n",
    "\n",
    "- **Class 2 (Diabetes)**:\n",
    "  - Correctly classified as Class 2: **1,909**.\n",
    "  - Misclassified as Class 0: **5,088**.\n",
    "  - No misclassification as Class 1.\n",
    "\n",
    "\n",
    "\n",
    "## 2. Classification Report\n",
    "\n",
    "| Metric       | Class 0 (No Diabetes) | Class 1 (Pre-Diabetes) | Class 2 (Diabetes) | Macro Avg | Weighted Avg |\n",
    "|--------------|-----------------------|------------------------|--------------------|-----------|--------------|\n",
    "| **Precision**| 0.874                 | 0.000                  | 0.510              | 0.462     | 0.808        |\n",
    "| **Recall**   | 0.960                 | 0.000                  | 0.273              | 0.411     | 0.848        |\n",
    "| **F1-Score** | 0.915                 | 0.000                  | 0.356              | 0.424     | 0.821        |\n",
    "\n",
    "- **Class 0 (No Diabetes)**:\n",
    "  - Excellent performance with high precision (**0.874**), recall (**0.960**), and F1-score (**0.915**).\n",
    "\n",
    "- **Class 1 (Pre-Diabetes)**:\n",
    "  - The model completely fails to predict any pre-diabetes cases, with all metrics at **0.000**.\n",
    "\n",
    "- **Class 2 (Diabetes)**:\n",
    "  - Moderate precision (**0.510**), poor recall (**0.273**), and low F1-score (**0.356**).\n",
    "\n",
    "- **Macro Average**:\n",
    "  - Shows low overall performance due to poor metrics for Classes 1 and 2.\n",
    "\n",
    "- **Weighted Average**:\n",
    "  - Heavily influenced by the dominant Class 0, inflating the overall metrics.\n",
    "\n",
    "\n",
    "\n",
    "## 3. ROC-AUC Score\n",
    "\n",
    "- **ROC-AUC Score (0.768)**: Indicates reasonable discrimination ability for a multiclass model but is heavily skewed towards Class 0.\n",
    "\n",
    "\n",
    "\n",
    "## Strengths\n",
    "\n",
    "- **Class 0 (No Diabetes)**:\n",
    "  - The model performs exceptionally well in predicting this majority class.\n",
    "\n",
    "- **Improvement for Class 2 (Diabetes)**:\n",
    "  - Moderate precision indicates some success in identifying diabetes cases, but recall remains low.\n",
    "\n",
    "\n",
    "## Weaknesses\n",
    "\n",
    "- **Class 1 (Pre-Diabetes)**:\n",
    "  - The model completely fails to predict pre-diabetes cases, likely due to:\n",
    "    - Extreme class imbalance.\n",
    "    - Overlap of features between Classes 0 and 1.\n",
    "\n",
    "- **Class 2 (Diabetes)**:\n",
    "  - The model struggles with recall, missing a large proportion of actual diabetes cases.\n",
    "\n",
    "\n",
    "\n",
    "## Can We Consider This a Success?\n",
    "\n",
    "- **For the Question (\"Can Survey Questions from the BRFSS Provide Accurate Predictions of Whether an Individual Has Diabetes?\")**:\n",
    "  - The model can predict diabetes (Class 2) and no diabetes (Class 0) with reasonable accuracy, suggesting that survey questions are informative.\n",
    "  - However, the failure to predict pre-diabetes (Class 1) raises concerns about the dataset's ability to differentiate between borderline cases.\n"
   ]
  }
 ],
 "metadata": {
  "kernelspec": {
   "display_name": "dsi_participant",
   "language": "python",
   "name": "python3"
  },
  "language_info": {
   "codemirror_mode": {
    "name": "ipython",
    "version": 3
   },
   "file_extension": ".py",
   "mimetype": "text/x-python",
   "name": "python",
   "nbconvert_exporter": "python",
   "pygments_lexer": "ipython3",
   "version": "3.9.18"
  }
 },
 "nbformat": 4,
 "nbformat_minor": 2
}
